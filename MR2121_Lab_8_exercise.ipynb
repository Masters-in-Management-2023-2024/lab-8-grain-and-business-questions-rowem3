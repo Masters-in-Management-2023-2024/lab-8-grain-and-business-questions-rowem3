{
  "cells": [
    {
      "cell_type": "markdown",
      "metadata": {
        "id": "0xfVsq2Hqywq"
      },
      "source": [
        "# Diamond Company Analytics Challenge\n",
        "\n",
        "**Time:** 35 minutes\n",
        "\n",
        "**Scenario:** You are the new data analyst at a prestigious diamond company. The CEO has called an urgent meeting and needs answers to critical business questions about the inventory.\n",
        "\n",
        "**Your Mission:** Analyze the diamond inventory data and provide insights to guide strategic decisions."
      ]
    },
    {
      "cell_type": "code",
      "execution_count": 2,
      "metadata": {
        "colab": {
          "base_uri": "https://localhost:8080/"
        },
        "id": "zy5aG1eXqywt",
        "outputId": "7de1b84d-a8d7-4a49-8b0a-3103d67ae727"
      },
      "outputs": [
        {
          "output_type": "stream",
          "name": "stdout",
          "text": [
            "Loading diamonds dataset...\n",
            "Dataset loaded successfully!\n"
          ]
        }
      ],
      "source": [
        "import polars as pl\n",
        "\n",
        "# Load the diamonds dataset\n",
        "print(\"Loading diamonds dataset...\")\n",
        "df = pl.read_csv('https://raw.githubusercontent.com/pycaret/pycaret/master/datasets/diamond.csv')\n",
        "print(\"Dataset loaded successfully!\")"
      ]
    },
    {
      "cell_type": "markdown",
      "metadata": {
        "id": "-B_tNzOSqywv"
      },
      "source": [
        "## Section 1: Initial Inventory Assessment (5 minutes)\n",
        "\n",
        "The CEO walks in: \"Before we dive into specifics, I need to understand what we're working with. Give me the basics about our inventory database.\""
      ]
    },
    {
      "cell_type": "markdown",
      "metadata": {
        "id": "TWHyQdTuqyww"
      },
      "source": [
        "### Question 1: \"How extensive is our inventory database?\"\n",
        "\n",
        "The CEO needs to know the scale of data you're analyzing."
      ]
    },
    {
      "cell_type": "code",
      "execution_count": 3,
      "metadata": {
        "colab": {
          "base_uri": "https://localhost:8080/",
          "height": 309
        },
        "id": "cMHi99NHqyww",
        "outputId": "4cbd20c6-8cf9-4cce-a321-14d227cae17e"
      },
      "outputs": [
        {
          "output_type": "stream",
          "name": "stdout",
          "text": [
            "Shape: (6000, 8)\n",
            "Columns: ['Carat Weight', 'Cut', 'Color', 'Clarity', 'Polish', 'Symmetry', 'Report', 'Price']\n"
          ]
        },
        {
          "output_type": "execute_result",
          "data": {
            "text/plain": [
              "shape: (5, 8)\n",
              "┌──────────────┬───────┬───────┬─────────┬────────┬──────────┬────────┬───────┐\n",
              "│ Carat Weight ┆ Cut   ┆ Color ┆ Clarity ┆ Polish ┆ Symmetry ┆ Report ┆ Price │\n",
              "│ ---          ┆ ---   ┆ ---   ┆ ---     ┆ ---    ┆ ---      ┆ ---    ┆ ---   │\n",
              "│ f64          ┆ str   ┆ str   ┆ str     ┆ str    ┆ str      ┆ str    ┆ i64   │\n",
              "╞══════════════╪═══════╪═══════╪═════════╪════════╪══════════╪════════╪═══════╡\n",
              "│ 1.1          ┆ Ideal ┆ H     ┆ SI1     ┆ VG     ┆ EX       ┆ GIA    ┆ 5169  │\n",
              "│ 0.83         ┆ Ideal ┆ H     ┆ VS1     ┆ ID     ┆ ID       ┆ AGSL   ┆ 3470  │\n",
              "│ 0.85         ┆ Ideal ┆ H     ┆ SI1     ┆ EX     ┆ EX       ┆ GIA    ┆ 3183  │\n",
              "│ 0.91         ┆ Ideal ┆ E     ┆ SI1     ┆ VG     ┆ VG       ┆ GIA    ┆ 4370  │\n",
              "│ 0.83         ┆ Ideal ┆ G     ┆ SI1     ┆ EX     ┆ EX       ┆ GIA    ┆ 3171  │\n",
              "└──────────────┴───────┴───────┴─────────┴────────┴──────────┴────────┴───────┘"
            ],
            "text/html": [
              "<div><style>\n",
              ".dataframe > thead > tr,\n",
              ".dataframe > tbody > tr {\n",
              "  text-align: right;\n",
              "  white-space: pre-wrap;\n",
              "}\n",
              "</style>\n",
              "<small>shape: (5, 8)</small><table border=\"1\" class=\"dataframe\"><thead><tr><th>Carat Weight</th><th>Cut</th><th>Color</th><th>Clarity</th><th>Polish</th><th>Symmetry</th><th>Report</th><th>Price</th></tr><tr><td>f64</td><td>str</td><td>str</td><td>str</td><td>str</td><td>str</td><td>str</td><td>i64</td></tr></thead><tbody><tr><td>1.1</td><td>&quot;Ideal&quot;</td><td>&quot;H&quot;</td><td>&quot;SI1&quot;</td><td>&quot;VG&quot;</td><td>&quot;EX&quot;</td><td>&quot;GIA&quot;</td><td>5169</td></tr><tr><td>0.83</td><td>&quot;Ideal&quot;</td><td>&quot;H&quot;</td><td>&quot;VS1&quot;</td><td>&quot;ID&quot;</td><td>&quot;ID&quot;</td><td>&quot;AGSL&quot;</td><td>3470</td></tr><tr><td>0.85</td><td>&quot;Ideal&quot;</td><td>&quot;H&quot;</td><td>&quot;SI1&quot;</td><td>&quot;EX&quot;</td><td>&quot;EX&quot;</td><td>&quot;GIA&quot;</td><td>3183</td></tr><tr><td>0.91</td><td>&quot;Ideal&quot;</td><td>&quot;E&quot;</td><td>&quot;SI1&quot;</td><td>&quot;VG&quot;</td><td>&quot;VG&quot;</td><td>&quot;GIA&quot;</td><td>4370</td></tr><tr><td>0.83</td><td>&quot;Ideal&quot;</td><td>&quot;G&quot;</td><td>&quot;SI1&quot;</td><td>&quot;EX&quot;</td><td>&quot;EX&quot;</td><td>&quot;GIA&quot;</td><td>3171</td></tr></tbody></table></div>"
            ]
          },
          "metadata": {},
          "execution_count": 3
        }
      ],
      "source": [
        "# Your code here:\n",
        "\n",
        "print(f\"Shape: {df.shape}\")\n",
        "print(f\"Columns: {df.columns}\")\n",
        "\n",
        "# Display first 5 rows\n",
        "df.head()"
      ]
    },
    {
      "cell_type": "markdown",
      "metadata": {
        "id": "Ask_pVvfqywx"
      },
      "source": [
        "### Question 2: \"What information do we track about each diamond?\"\n",
        "\n",
        "List all the characteristics we record."
      ]
    },
    {
      "cell_type": "code",
      "execution_count": 4,
      "metadata": {
        "colab": {
          "base_uri": "https://localhost:8080/"
        },
        "id": "rRSTV_Xgqywx",
        "outputId": "a95c801b-9d04-475b-e32f-18a46bb55de4"
      },
      "outputs": [
        {
          "output_type": "stream",
          "name": "stdout",
          "text": [
            "Schema: Schema([('Carat Weight', Float64), ('Cut', String), ('Color', String), ('Clarity', String), ('Polish', String), ('Symmetry', String), ('Report', String), ('Price', Int64)])\n"
          ]
        }
      ],
      "source": [
        "# Your code here:\n",
        "\n",
        "print(f\"Schema: {df.schema}\")"
      ]
    },
    {
      "cell_type": "markdown",
      "metadata": {
        "id": "LaLt-mIhqywy"
      },
      "source": [
        "### Question 3: \"When I look at one line in this database, what am I looking at?\"\n",
        "\n",
        "Explain in business terms:"
      ]
    },
    {
      "cell_type": "markdown",
      "metadata": {
        "id": "FMoDSM2Nqywy"
      },
      "source": [
        "**Your answer:** Each row represents a diamond's characteristics"
      ]
    },
    {
      "cell_type": "markdown",
      "metadata": {
        "id": "4qKSN7Szqywy"
      },
      "source": [
        "## Section 2: Strategic Business Questions (20 minutes)\n",
        "\n",
        "The CEO continues: \"Now let's get to the important questions. Our board meeting is tomorrow and I need concrete numbers.\""
      ]
    },
    {
      "cell_type": "markdown",
      "metadata": {
        "id": "ox0hX9OOqywy"
      },
      "source": [
        "### Question 4: \"We're considering expanding our storage facilities. How many total carats do we have in inventory? I need to know if our vaults can handle the weight.\"\n",
        "\n",
        "Think about what measurement would help answer this."
      ]
    },
    {
      "cell_type": "code",
      "execution_count": 5,
      "metadata": {
        "colab": {
          "base_uri": "https://localhost:8080/"
        },
        "id": "lJW23x_8qywz",
        "outputId": "5055061f-1c40-4fcb-c0f8-e35f549df379"
      },
      "outputs": [
        {
          "output_type": "execute_result",
          "data": {
            "text/plain": [
              "6000"
            ]
          },
          "metadata": {},
          "execution_count": 5
        }
      ],
      "source": [
        "# Your code here:\n",
        "\n",
        "Total_diamonds = len(df)\n",
        "Total_diamonds"
      ]
    },
    {
      "cell_type": "markdown",
      "metadata": {
        "id": "EQcGEAiJqywz"
      },
      "source": [
        "### Question 5: \"Our new marketing campaign claims we have 'the widest variety of cuts in the industry.' Can you verify this?\"\n",
        "\n",
        "The CEO wants to know about variety, not quantity."
      ]
    },
    {
      "cell_type": "code",
      "execution_count": 6,
      "metadata": {
        "colab": {
          "base_uri": "https://localhost:8080/",
          "height": 255
        },
        "id": "tnl6zZARqywz",
        "outputId": "99fb4021-128b-499d-f6f1-aaad73ffdac0"
      },
      "outputs": [
        {
          "output_type": "execute_result",
          "data": {
            "text/plain": [
              "shape: (5, 2)\n",
              "┌─────────────────┬───────────┐\n",
              "│ Cut             ┆ cut_count │\n",
              "│ ---             ┆ ---       │\n",
              "│ str             ┆ u32       │\n",
              "╞═════════════════╪═══════════╡\n",
              "│ Fair            ┆ 129       │\n",
              "│ Signature-Ideal ┆ 253       │\n",
              "│ Good            ┆ 708       │\n",
              "│ Very Good       ┆ 2428      │\n",
              "│ Ideal           ┆ 2482      │\n",
              "└─────────────────┴───────────┘"
            ],
            "text/html": [
              "<div><style>\n",
              ".dataframe > thead > tr,\n",
              ".dataframe > tbody > tr {\n",
              "  text-align: right;\n",
              "  white-space: pre-wrap;\n",
              "}\n",
              "</style>\n",
              "<small>shape: (5, 2)</small><table border=\"1\" class=\"dataframe\"><thead><tr><th>Cut</th><th>cut_count</th></tr><tr><td>str</td><td>u32</td></tr></thead><tbody><tr><td>&quot;Fair&quot;</td><td>129</td></tr><tr><td>&quot;Signature-Ideal&quot;</td><td>253</td></tr><tr><td>&quot;Good&quot;</td><td>708</td></tr><tr><td>&quot;Very Good&quot;</td><td>2428</td></tr><tr><td>&quot;Ideal&quot;</td><td>2482</td></tr></tbody></table></div>"
            ]
          },
          "metadata": {},
          "execution_count": 6
        }
      ],
      "source": [
        "# Your code here:\n",
        "\n",
        "cut_variety = df.group_by(\"Cut\").agg(pl.col(\"Cut\").count().alias(\"cut_count\"))\n",
        "\n",
        "cut_variety"
      ]
    },
    {
      "cell_type": "markdown",
      "metadata": {
        "id": "MvytzpfBqyw0"
      },
      "source": [
        "### Question 6: \"I'm meeting with our insurance company. They need to know our price exposure - what's our most and least valuable diamond?\""
      ]
    },
    {
      "cell_type": "code",
      "execution_count": 7,
      "metadata": {
        "colab": {
          "base_uri": "https://localhost:8080/"
        },
        "id": "O_C9Lwb6qyw0",
        "outputId": "9d8ed677-f0c4-4627-ccde-10d653a57c1d"
      },
      "outputs": [
        {
          "output_type": "stream",
          "name": "stdout",
          "text": [
            "Least valuable diamond: shape: (1, 8)\n",
            "┌──────────────┬──────┬───────┬─────────┬────────┬──────────┬────────┬───────┐\n",
            "│ Carat Weight ┆ Cut  ┆ Color ┆ Clarity ┆ Polish ┆ Symmetry ┆ Report ┆ Price │\n",
            "│ ---          ┆ ---  ┆ ---   ┆ ---     ┆ ---    ┆ ---      ┆ ---    ┆ ---   │\n",
            "│ f64          ┆ str  ┆ str   ┆ str     ┆ str    ┆ str      ┆ str    ┆ i64   │\n",
            "╞══════════════╪══════╪═══════╪═════════╪════════╪══════════╪════════╪═══════╡\n",
            "│ 0.77         ┆ Good ┆ I     ┆ VS1     ┆ VG     ┆ G        ┆ AGSL   ┆ 2184  │\n",
            "└──────────────┴──────┴───────┴─────────┴────────┴──────────┴────────┴───────┘\n",
            "Most valuable diamond: shape: (1, 8)\n",
            "┌──────────────┬───────┬───────┬─────────┬────────┬──────────┬────────┬────────┐\n",
            "│ Carat Weight ┆ Cut   ┆ Color ┆ Clarity ┆ Polish ┆ Symmetry ┆ Report ┆ Price  │\n",
            "│ ---          ┆ ---   ┆ ---   ┆ ---     ┆ ---    ┆ ---      ┆ ---    ┆ ---    │\n",
            "│ f64          ┆ str   ┆ str   ┆ str     ┆ str    ┆ str      ┆ str    ┆ i64    │\n",
            "╞══════════════╪═══════╪═══════╪═════════╪════════╪══════════╪════════╪════════╡\n",
            "│ 2.79         ┆ Ideal ┆ D     ┆ IF      ┆ EX     ┆ EX       ┆ GIA    ┆ 101561 │\n",
            "└──────────────┴───────┴───────┴─────────┴────────┴──────────┴────────┴────────┘\n"
          ]
        }
      ],
      "source": [
        "# Your code here:\n",
        "\n",
        "Least_valuable = df.sort(\"Price\").head(1)\n",
        "Most_valuable = df.sort(\"Price\", descending=True).head(1)\n",
        "\n",
        "Least_valuable\n",
        "print(f\"Least valuable diamond: {Least_valuable}\")\n",
        "print(f\"Most valuable diamond: {Most_valuable}\")\n"
      ]
    },
    {
      "cell_type": "markdown",
      "metadata": {
        "id": "xqpChS5rqyw0"
      },
      "source": [
        "### Question 7: \"Which color grades should we focus on in our premium line? I need typical prices across our color spectrum.\"\n",
        "\n",
        "The CEO wants to understand pricing patterns."
      ]
    },
    {
      "cell_type": "code",
      "execution_count": 8,
      "metadata": {
        "colab": {
          "base_uri": "https://localhost:8080/",
          "height": 286
        },
        "id": "_GllBPDQqyw1",
        "outputId": "8b2c76c4-941a-421d-fe98-f74e93ed74b2"
      },
      "outputs": [
        {
          "output_type": "execute_result",
          "data": {
            "text/plain": [
              "shape: (6, 2)\n",
              "┌───────┬───────────────┐\n",
              "│ Color ┆ Average_Price │\n",
              "│ ---   ┆ ---           │\n",
              "│ str   ┆ f64           │\n",
              "╞═══════╪═══════════════╡\n",
              "│ E     ┆ 11539.190231  │\n",
              "│ D     ┆ 15255.783661  │\n",
              "│ I     ┆ 8989.636364   │\n",
              "│ G     ┆ 12520.050633  │\n",
              "│ H     ┆ 10487.347544  │\n",
              "│ F     ┆ 12712.241856  │\n",
              "└───────┴───────────────┘"
            ],
            "text/html": [
              "<div><style>\n",
              ".dataframe > thead > tr,\n",
              ".dataframe > tbody > tr {\n",
              "  text-align: right;\n",
              "  white-space: pre-wrap;\n",
              "}\n",
              "</style>\n",
              "<small>shape: (6, 2)</small><table border=\"1\" class=\"dataframe\"><thead><tr><th>Color</th><th>Average_Price</th></tr><tr><td>str</td><td>f64</td></tr></thead><tbody><tr><td>&quot;E&quot;</td><td>11539.190231</td></tr><tr><td>&quot;D&quot;</td><td>15255.783661</td></tr><tr><td>&quot;I&quot;</td><td>8989.636364</td></tr><tr><td>&quot;G&quot;</td><td>12520.050633</td></tr><tr><td>&quot;H&quot;</td><td>10487.347544</td></tr><tr><td>&quot;F&quot;</td><td>12712.241856</td></tr></tbody></table></div>"
            ]
          },
          "metadata": {},
          "execution_count": 8
        }
      ],
      "source": [
        "# Your code here:\n",
        "\n",
        "diamond_trends_by_color = df.group_by(\"Color\").agg(\n",
        "    pl.col(\"Price\").mean().alias(\"Average_Price\")\n",
        ")\n",
        "\n",
        "diamond_trends_by_color"
      ]
    },
    {
      "cell_type": "markdown",
      "metadata": {
        "id": "QI0DXEm0qyw1"
      },
      "source": [
        "**Reflection:** After analyzing by color, how has your view of the data changed? What does each row in your result represent now?"
      ]
    },
    {
      "cell_type": "markdown",
      "metadata": {
        "id": "iTBBsD1Yqyw1"
      },
      "source": [
        "**Your answer:** New grain = average price of diamonds across selection"
      ]
    },
    {
      "cell_type": "markdown",
      "metadata": {
        "id": "8cTu6Cm6qyw2"
      },
      "source": [
        "## Section 3: Advanced Strategic Analysis (10 minutes)\n",
        "\n",
        "The CEO leans forward: \"These next questions will shape our strategy for next year.\""
      ]
    },
    {
      "cell_type": "markdown",
      "metadata": {
        "id": "5b60tdTxqyw2"
      },
      "source": [
        "### Question 8: \"We're thinking of specializing in certain clarity grades. For our investor deck, I need a complete breakdown showing: how many diamonds we have in each clarity grade, their typical price, and the total carats we're holding for each grade.\""
      ]
    },
    {
      "cell_type": "code",
      "execution_count": 9,
      "metadata": {
        "colab": {
          "base_uri": "https://localhost:8080/",
          "height": 317
        },
        "id": "Tnuj2yo4qyw2",
        "outputId": "baad64fb-2cbb-4b64-83c4-f17ebbb1c8a2"
      },
      "outputs": [
        {
          "output_type": "execute_result",
          "data": {
            "text/plain": [
              "shape: (7, 4)\n",
              "┌─────────┬───────────────┬───────────────┬─────────────┐\n",
              "│ Clarity ┆ Diamond_Count ┆ Average_Price ┆ Total_Carat │\n",
              "│ ---     ┆ ---           ┆ ---           ┆ ---         │\n",
              "│ str     ┆ u32           ┆ f64           ┆ f64         │\n",
              "╞═════════╪═══════════════╪═══════════════╪═════════════╡\n",
              "│ VS2     ┆ 1575          ┆ 11809.053333  ┆ 2170.81     │\n",
              "│ SI1     ┆ 2059          ┆ 8018.864012   ┆ 2563.69     │\n",
              "│ IF      ┆ 219           ┆ 22105.844749  ┆ 316.0       │\n",
              "│ VS1     ┆ 1192          ┆ 13694.113255  ┆ 1682.74     │\n",
              "│ VVS2    ┆ 666           ┆ 14142.177177  ┆ 876.58      │\n",
              "│ VVS1    ┆ 285           ┆ 16845.680702  ┆ 389.43      │\n",
              "│ FL      ┆ 4             ┆ 63776.0       ┆ 7.87        │\n",
              "└─────────┴───────────────┴───────────────┴─────────────┘"
            ],
            "text/html": [
              "<div><style>\n",
              ".dataframe > thead > tr,\n",
              ".dataframe > tbody > tr {\n",
              "  text-align: right;\n",
              "  white-space: pre-wrap;\n",
              "}\n",
              "</style>\n",
              "<small>shape: (7, 4)</small><table border=\"1\" class=\"dataframe\"><thead><tr><th>Clarity</th><th>Diamond_Count</th><th>Average_Price</th><th>Total_Carat</th></tr><tr><td>str</td><td>u32</td><td>f64</td><td>f64</td></tr></thead><tbody><tr><td>&quot;VS2&quot;</td><td>1575</td><td>11809.053333</td><td>2170.81</td></tr><tr><td>&quot;SI1&quot;</td><td>2059</td><td>8018.864012</td><td>2563.69</td></tr><tr><td>&quot;IF&quot;</td><td>219</td><td>22105.844749</td><td>316.0</td></tr><tr><td>&quot;VS1&quot;</td><td>1192</td><td>13694.113255</td><td>1682.74</td></tr><tr><td>&quot;VVS2&quot;</td><td>666</td><td>14142.177177</td><td>876.58</td></tr><tr><td>&quot;VVS1&quot;</td><td>285</td><td>16845.680702</td><td>389.43</td></tr><tr><td>&quot;FL&quot;</td><td>4</td><td>63776.0</td><td>7.87</td></tr></tbody></table></div>"
            ]
          },
          "metadata": {},
          "execution_count": 9
        }
      ],
      "source": [
        "# Your code here:\n",
        "\n",
        "diamond_investor_deck = df.group_by(\"Clarity\").agg(\n",
        "    pl.col(\"Clarity\").count().alias(\"Diamond_Count\"),\n",
        "    pl.col(\"Price\").mean().alias(\"Average_Price\"),\n",
        "    pl.col(\"Carat Weight\").sum().alias(\"Total_Carat\")\n",
        ")\n",
        "\n",
        "diamond_investor_deck"
      ]
    },
    {
      "cell_type": "markdown",
      "metadata": {
        "id": "KBS76IUAqyw2"
      },
      "source": [
        "### Question 9: \"My luxury competitor claims they have the best prices for every cut-color combination. Show me our pricing structure across these combinations - I want to see where we're competitive.\""
      ]
    },
    {
      "cell_type": "code",
      "execution_count": 10,
      "metadata": {
        "id": "oymYPl2Xqyw3",
        "colab": {
          "base_uri": "https://localhost:8080/",
          "height": 443
        },
        "outputId": "aaded4ab-d327-46f5-97b6-fd0ea72f5154"
      },
      "outputs": [
        {
          "output_type": "execute_result",
          "data": {
            "text/plain": [
              "shape: (30, 3)\n",
              "┌───────────┬───────┬───────────────┐\n",
              "│ Cut       ┆ Color ┆ Average_Price │\n",
              "│ ---       ┆ ---   ┆ ---           │\n",
              "│ str       ┆ str   ┆ f64           │\n",
              "╞═══════════╪═══════╪═══════════════╡\n",
              "│ Fair      ┆ D     ┆ 6058.25       │\n",
              "│ Fair      ┆ E     ┆ 5370.625      │\n",
              "│ Fair      ┆ F     ┆ 6063.625      │\n",
              "│ Fair      ┆ G     ┆ 7345.52381    │\n",
              "│ Fair      ┆ H     ┆ 5908.5        │\n",
              "│ …         ┆ …     ┆ …             │\n",
              "│ Very Good ┆ E     ┆ 12101.910217  │\n",
              "│ Very Good ┆ F     ┆ 12413.905495  │\n",
              "│ Very Good ┆ G     ┆ 12354.013841  │\n",
              "│ Very Good ┆ H     ┆ 10056.106132  │\n",
              "│ Very Good ┆ I     ┆ 8930.031332   │\n",
              "└───────────┴───────┴───────────────┘"
            ],
            "text/html": [
              "<div><style>\n",
              ".dataframe > thead > tr,\n",
              ".dataframe > tbody > tr {\n",
              "  text-align: right;\n",
              "  white-space: pre-wrap;\n",
              "}\n",
              "</style>\n",
              "<small>shape: (30, 3)</small><table border=\"1\" class=\"dataframe\"><thead><tr><th>Cut</th><th>Color</th><th>Average_Price</th></tr><tr><td>str</td><td>str</td><td>f64</td></tr></thead><tbody><tr><td>&quot;Fair&quot;</td><td>&quot;D&quot;</td><td>6058.25</td></tr><tr><td>&quot;Fair&quot;</td><td>&quot;E&quot;</td><td>5370.625</td></tr><tr><td>&quot;Fair&quot;</td><td>&quot;F&quot;</td><td>6063.625</td></tr><tr><td>&quot;Fair&quot;</td><td>&quot;G&quot;</td><td>7345.52381</td></tr><tr><td>&quot;Fair&quot;</td><td>&quot;H&quot;</td><td>5908.5</td></tr><tr><td>&hellip;</td><td>&hellip;</td><td>&hellip;</td></tr><tr><td>&quot;Very Good&quot;</td><td>&quot;E&quot;</td><td>12101.910217</td></tr><tr><td>&quot;Very Good&quot;</td><td>&quot;F&quot;</td><td>12413.905495</td></tr><tr><td>&quot;Very Good&quot;</td><td>&quot;G&quot;</td><td>12354.013841</td></tr><tr><td>&quot;Very Good&quot;</td><td>&quot;H&quot;</td><td>10056.106132</td></tr><tr><td>&quot;Very Good&quot;</td><td>&quot;I&quot;</td><td>8930.031332</td></tr></tbody></table></div>"
            ]
          },
          "metadata": {},
          "execution_count": 10
        }
      ],
      "source": [
        "# Your code here:\n",
        "\n",
        "cut_color_pricing = df.group_by([\"Cut\", \"Color\"]).agg(\n",
        "    pl.col(\"Price\").mean().alias(\"Average_Price\")\n",
        ").sort([\"Cut\", \"Color\"])\n",
        "\n",
        "cut_color_pricing"
      ]
    },
    {
      "cell_type": "markdown",
      "metadata": {
        "id": "6OuisC7rqyw3"
      },
      "source": [
        "**Reflection:** How specific is your analysis now? What level of detail does each row represent?"
      ]
    },
    {
      "cell_type": "markdown",
      "metadata": {
        "id": "fMLwsgtYqyw3"
      },
      "source": [
        "**Your answer:** New grain ="
      ]
    },
    {
      "cell_type": "markdown",
      "metadata": {
        "id": "-pQogBJLqyw4"
      },
      "source": [
        "### Question 10: URGENT - \"Our biggest client is interested in purchasing entire inventory segments. They asked: 'Which color-cut combinations represent your highest total inventory value?' Show me the top 5 most valuable inventory segments by total worth, and include how many diamonds are in each segment.\"\n",
        "\n",
        "This is critical for tomorrow's negotiation."
      ]
    },
    {
      "cell_type": "code",
      "execution_count": 11,
      "metadata": {
        "id": "XLTZlAIaqyw4",
        "colab": {
          "base_uri": "https://localhost:8080/",
          "height": 255
        },
        "outputId": "12af07de-66a0-4f8c-b122-decfe2f33cf2"
      },
      "outputs": [
        {
          "output_type": "execute_result",
          "data": {
            "text/plain": [
              "shape: (5, 4)\n",
              "┌───────────┬───────┬─────────────┬───────────────┐\n",
              "│ Cut       ┆ Color ┆ Total_Value ┆ Diamond_Count │\n",
              "│ ---       ┆ ---   ┆ ---         ┆ ---           │\n",
              "│ str       ┆ str   ┆ i64         ┆ u32           │\n",
              "╞═══════════╪═══════╪═════════════╪═══════════════╡\n",
              "│ Ideal     ┆ G     ┆ 9363514     ┆ 690           │\n",
              "│ Very Good ┆ G     ┆ 7140620     ┆ 578           │\n",
              "│ Very Good ┆ F     ┆ 5648327     ┆ 455           │\n",
              "│ Ideal     ┆ F     ┆ 5346782     ┆ 363           │\n",
              "│ Ideal     ┆ H     ┆ 5279687     ┆ 458           │\n",
              "└───────────┴───────┴─────────────┴───────────────┘"
            ],
            "text/html": [
              "<div><style>\n",
              ".dataframe > thead > tr,\n",
              ".dataframe > tbody > tr {\n",
              "  text-align: right;\n",
              "  white-space: pre-wrap;\n",
              "}\n",
              "</style>\n",
              "<small>shape: (5, 4)</small><table border=\"1\" class=\"dataframe\"><thead><tr><th>Cut</th><th>Color</th><th>Total_Value</th><th>Diamond_Count</th></tr><tr><td>str</td><td>str</td><td>i64</td><td>u32</td></tr></thead><tbody><tr><td>&quot;Ideal&quot;</td><td>&quot;G&quot;</td><td>9363514</td><td>690</td></tr><tr><td>&quot;Very Good&quot;</td><td>&quot;G&quot;</td><td>7140620</td><td>578</td></tr><tr><td>&quot;Very Good&quot;</td><td>&quot;F&quot;</td><td>5648327</td><td>455</td></tr><tr><td>&quot;Ideal&quot;</td><td>&quot;F&quot;</td><td>5346782</td><td>363</td></tr><tr><td>&quot;Ideal&quot;</td><td>&quot;H&quot;</td><td>5279687</td><td>458</td></tr></tbody></table></div>"
            ]
          },
          "metadata": {},
          "execution_count": 11
        }
      ],
      "source": [
        "# Your code here:\n",
        "\n",
        "top_5_segments = df.group_by([\"Cut\", \"Color\"]).agg(\n",
        "    pl.col(\"Price\").sum().alias(\"Total_Value\"),\n",
        "    pl.col(\"Cut\").count().alias(\"Diamond_Count\") # Use count on any column within the group\n",
        ").sort(\"Total_Value\", descending=True).head(5)\n",
        "\n",
        "top_5_segments"
      ]
    },
    {
      "cell_type": "markdown",
      "metadata": {
        "id": "y2FkLPdBqyw5"
      },
      "source": [
        "## Debrief\n",
        "\n",
        "Congratulations! You've just completed your first day as the diamond company's data analyst.\n",
        "\n",
        "Remember:\n",
        "- CEOs speak in business language, not technical terms\n",
        "- Always understand what each row represents before analyzing\n",
        "- Business questions contain clues about which operations to use"
      ]
    }
  ],
  "metadata": {
    "kernelspec": {
      "display_name": "Python 3",
      "language": "python",
      "name": "python3"
    },
    "language_info": {
      "codemirror_mode": {
        "name": "ipython",
        "version": 3
      },
      "file_extension": ".py",
      "mimetype": "text/x-python",
      "name": "python",
      "nbconvert_exporter": "python",
      "pygments_lexer": "ipython3",
      "version": "3.12.0"
    },
    "colab": {
      "provenance": []
    }
  },
  "nbformat": 4,
  "nbformat_minor": 0
}